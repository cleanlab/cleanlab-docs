{
 "cells": [
  {
   "cell_type": "markdown",
   "id": "ffe0d62e",
   "metadata": {},
   "source": [
    "# FAQ\n",
    "\n",
    "Answers to frequently asked questions about the [cleanlab](https://github.com/cleanlab/cleanlab) open source package"
   ]
  },
  {
   "cell_type": "markdown",
   "id": "eca36874",
   "metadata": {},
   "source": [
    "### How do I format labels for Cleanlab?"
   ]
  },
  {
   "cell_type": "markdown",
   "id": "d5d0fbb3",
   "metadata": {},
   "source": [
    "Cleanlab only works with integer-encoded labels in the range `{0,1, ... K-1}` where `K = number_of_classes`. The `labels` array should only contain integer values in the range  `{0, K-1}` and be of shape `(N,)` where `N = total_number_of_data_points`.\n",
    "\n",
    "**Text or string labels** should to be mapped to integers for eaach possible value. For example if your original data labels look like this: `[\"dog\", \"dog\", \"cat\", \"mouse\", \"cat\"]`, you should feed them to Cleanlab like this: `labels = [1,1,0,2,0]` and keep track of which integer uniquely represents which class (classes were ordered alphabetically in this example). \n",
    "\n",
    "**One-hot encoded labels** should be integer-encoded by finding the argmax along the one-hot encoded axis. An example of what this might look like is shown below."
   ]
  },
  {
   "cell_type": "code",
   "execution_count": null,
   "id": "239d5ee7",
   "metadata": {},
   "outputs": [],
   "source": [
    "import numpy as np \n",
    "\n",
    "# This example arr has 4 labels (one per data point) where \n",
    "# each label can be one of 3 possible classes\n",
    "\n",
    "arr  = np.array([[0,1,0],[1,0,0],[0,0,1],[1,0,0]])\n",
    "labels = np.argmax(arr, axis=1) # How labels should be represented when passed into the model"
   ]
  },
  {
   "cell_type": "markdown",
   "id": "1520a93f",
   "metadata": {},
   "source": [
    "### Can't find an answer to your question?\n",
    "\n",
    "If your question is not addressed in these tutorials, please refer to the: [Cleanlab Github issues](https://github.com/cleanlab/cleanlab/issues?q=is%3Aissue), [Cleanlab Code Examples](https://github.com/cleanlab/examples) or our [Slack Community](https://join.slack.com/t/cleanlab-community/shared_invite/zt-17lszn4hv-gg2FhZPXYfljq_l01uo92g).\n",
    "\n",
    "If your question is not addressed anywhere, please open a [new Github issue](https://github.com/cleanlab/cleanlab/issues/new/choose). Our developers can also provide personalized assistance in [Slack](https://join.slack.com/t/cleanlab-community/shared_invite/zt-17lszn4hv-gg2FhZPXYfljq_l01uo92g)."
   ]
  }
 ],
 "metadata": {
  "kernelspec": {
   "display_name": "Python 3 (ipykernel)",
   "language": "python",
   "name": "python3"
  },
  "language_info": {
   "codemirror_mode": {
    "name": "ipython",
    "version": 3
   },
   "file_extension": ".py",
   "mimetype": "text/x-python",
   "name": "python",
   "nbconvert_exporter": "python",
   "pygments_lexer": "ipython3",
   "version": "3.8.13"
  }
 },
 "nbformat": 4,
 "nbformat_minor": 5
}
