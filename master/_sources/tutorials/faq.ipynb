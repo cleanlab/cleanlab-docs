{
 "cells": [
  {
   "cell_type": "markdown",
   "id": "ffe0d62e",
   "metadata": {},
   "source": [
    "# FAQ\n",
    "\n",
    "Answers to frequently asked questions about the [cleanlab](https://github.com/cleanlab/cleanlab) open-source package."
   ]
  },
  {
   "cell_type": "markdown",
   "id": "d504ec58",
   "metadata": {},
   "source": [
    "### What data can cleanlab detect issues in?"
   ]
  },
  {
   "cell_type": "markdown",
   "id": "5e70efbc",
   "metadata": {},
   "source": [
    "Currently, cleanlab can be used to detect label issues in any classification dataset.\n",
    "We're working to add support for all common supervised learning tasks. If you have a particular task in mind, [let us know](https://github.com/cleanlab/cleanlab/issues?q=is%3Aissue)!"
   ]
  },
  {
   "cell_type": "markdown",
   "id": "eca36874",
   "metadata": {},
   "source": [
    "### How do I format classification labels for Cleanlab?"
   ]
  },
  {
   "cell_type": "markdown",
   "id": "d5d0fbb3",
   "metadata": {},
   "source": [
    "Cleanlab only works with integer-encoded labels in the range `{0,1, ... K-1}` where `K = number_of_classes`. The `labels` array should only contain integer values in the range  `{0, K-1}` and be of shape `(N,)` where `N = total_number_of_data_points`.\n",
    "\n",
    "**Text or string labels** should to be mapped to integers for eaach possible value. For example if your original data labels look like this: `[\"dog\", \"dog\", \"cat\", \"mouse\", \"cat\"]`, you should feed them to Cleanlab like this: `labels = [1,1,0,2,0]` and keep track of which integer uniquely represents which class (classes were ordered alphabetically in this example). \n",
    "\n",
    "**One-hot encoded labels** should be integer-encoded by finding the argmax along the one-hot encoded axis. An example of what this might look like is shown below."
   ]
  },
  {
   "cell_type": "code",
   "execution_count": null,
   "id": "239d5ee7",
   "metadata": {},
   "outputs": [],
   "source": [
    "import numpy as np \n",
    "\n",
    "# This example arr has 4 labels (one per data point) where \n",
    "# each label can be one of 3 possible classes\n",
    "\n",
    "arr  = np.array([[0,1,0],[1,0,0],[0,0,1],[1,0,0]])\n",
    "labels = np.argmax(arr, axis=1) # How labels should be represented when passed into the model"
   ]
  },
  {
   "cell_type": "markdown",
   "id": "3868ee8b",
   "metadata": {},
   "source": [
    "### Why isn’t CleanLearning working for my data?"
   ]
  },
  {
   "cell_type": "markdown",
   "id": "d13c9cd0",
   "metadata": {},
   "source": [
    "At this time, CleanLearning only works directly with numpy matrices or pd.DataFrames.\n",
    "You can still use cleanlab with other data formats though! Just separately obtain predicted probabilities from your model via cross-validation and pass them as inputs."
   ]
  },
  {
   "cell_type": "markdown",
   "id": "9ae3899c",
   "metadata": {},
   "source": [
    "### How can I use different models for data cleaning vs. final training in CleanLearning?"
   ]
  },
  {
   "cell_type": "markdown",
   "id": "a2ce1518",
   "metadata": {},
   "source": [
    "The code below demonstrates CleanLearning with 2 different classifiers: `LogisticRegression()` and `GradientBoostingClassifier()`.\n",
    "A `LogisticRegression` model is used to detect label issues (via cross-validation run inside CleanLearning) and a `GradientBoostingClassifier` model is finally trained on a clean subset of the data with issues removed.\n",
    "This can be done with any two classifiers."
   ]
  },
  {
   "cell_type": "code",
   "execution_count": null,
   "id": "4c9e9030",
   "metadata": {},
   "outputs": [],
   "source": [
    "from cleanlab.classification import CleanLearning\n",
    "import numpy as np\n",
    "from sklearn.linear_model import LogisticRegression\n",
    "from sklearn.ensemble import GradientBoostingClassifier\n",
    "\n",
    "# Make example data\n",
    "data = np.vstack([np.random.random((100, 2)), np.random.random((100, 2)) + 10])\n",
    "labels = np.array([0] * 100 + [1] * 100)\n",
    "\n",
    "# Introduce label errors\n",
    "true_errors = [97, 98, 100, 101, 102, 104]\n",
    "for idx in true_errors:\n",
    "    labels[idx] = 1 - labels[idx]\n",
    "\n",
    "# CleanLearning with 2 different classifiers: one classifier is used to detect label issues \n",
    "# and a different classifier is subsequently trained on the clean subset of the data.\n",
    "\n",
    "model_to_find_errors = LogisticRegression()  # this model will be trained many times via cross-validation\n",
    "model_to_return = GradientBoostingClassifier()  # this model will be trained once on clean subset of data\n",
    "\n",
    "cl0 = CleanLearning(model_to_find_errors)\n",
    "issues = cl0.find_label_issues(data, labels)\n",
    "\n",
    "cl = CleanLearning(model_to_return).fit(data, labels, label_issues=issues)\n",
    "pred_probs = cl.predict_proba(data)  # predictions from GradientBoostingClassifier\n",
    "\n",
    "print(cl0.clf)  # will be LogisticRegression()\n",
    "print(cl.clf)  # will be GradientBoostingClassifier()"
   ]
  },
  {
   "cell_type": "markdown",
   "id": "b71fef02",
   "metadata": {},
   "source": [
    "### How do I hyperparameter tune only the final model trained (and not the one finding label issues) in CleanLearning?"
   ]
  },
  {
   "cell_type": "markdown",
   "id": "e7ec1956",
   "metadata": {},
   "source": [
    "The code below demonstrates CleanLearning using a `GradientBoostingClassifier()` with no hyperparameter-tuning to find label issues but with hyperparameter-tuning via `RandomizedSearchCV(...)` for the final training of this model on the clean subset of the data.\n",
    "This is a useful trick to avoid expensive hyperparameter-tuning for every fold of cross-validation (which is needed to find label issues)."
   ]
  },
  {
   "cell_type": "code",
   "execution_count": null,
   "id": "8751619e",
   "metadata": {},
   "outputs": [],
   "source": [
    "import numpy as np\n",
    "from cleanlab.classification import CleanLearning\n",
    "from sklearn.ensemble import GradientBoostingClassifier\n",
    "from sklearn.model_selection import RandomizedSearchCV\n",
    "\n",
    "# Make example data\n",
    "data = np.vstack([np.random.random((100, 2)), np.random.random((100, 2)) + 10])\n",
    "labels = np.array([0] * 100 + [1] * 100)\n",
    "\n",
    "# Introduce label errors\n",
    "true_errors = [97, 98, 100, 101, 102, 104]\n",
    "for idx in true_errors:\n",
    "    labels[idx] = 1 - labels[idx]\n",
    "\n",
    "# CleanLearning with no hyperparameter-tuning during expensive cross-validation to find label issues\n",
    "# but hyperparameter-tuning for the final training of model on clean subset of the data:\n",
    "\n",
    "model_to_find_errors = GradientBoostingClassifier()  # this model will be trained many times via cross-validation\n",
    "model_to_return = RandomizedSearchCV(GradientBoostingClassifier(),\n",
    "                    param_distributions = {\n",
    "                        \"learning_rate\": [0.001, 0.05, 0.1, 0.2, 0.5],\n",
    "                        \"max_depth\": [3, 5, 10],\n",
    "                    }\n",
    "                )   # this model will be trained once on clean subset of data\n",
    "\n",
    "cl0 = CleanLearning(model_to_find_errors)\n",
    "issues = cl0.find_label_issues(data, labels)\n",
    "\n",
    "cl = CleanLearning(model_to_return).fit(data, labels, label_issues=issues)  # CleanLearning for hyperparameter final training\n",
    "pred_probs = cl.predict_proba(data)  # predictions from hyperparameter-tuned GradientBoostingClassifier\n",
    "\n",
    "print(cl0.clf)  # will be GradientBoostingClassifier()\n",
    "print(cl.clf)  # will be RandomizedSearchCV(estimator=GradientBoostingClassifier(),...)"
   ]
  },
  {
   "cell_type": "markdown",
   "id": "3a28168f",
   "metadata": {},
   "source": [
    "### What license is cleanlab open-sourced under?"
   ]
  },
  {
   "cell_type": "markdown",
   "id": "1a117546",
   "metadata": {},
   "source": [
    "[AGPL-3.0 license](https://github.com/cleanlab/cleanlab/blob/master/LICENSE)\n",
    "\n",
    "**What does this mean?** If you're working at a company, you can use this open-source library to clean up your internal datasets. You can also use this open-source library to clean up a dataset used to train a model that is deployed in a commercial product.\n",
    "For non-commercial purposes, feel free to release altered versions of the source code as long as you include the same license.\n",
    "\n",
    "Please email `info@cleanlab.ai` to discuss licensing needs if you would like to offer a commercial product that utilizes any cleanlab source code."
   ]
  },
  {
   "cell_type": "markdown",
   "id": "1520a93f",
   "metadata": {},
   "source": [
    "### Can't find an answer to your question?\n",
    "\n",
    "If your question is not addressed in these tutorials, please refer to the: [Cleanlab Github issues](https://github.com/cleanlab/cleanlab/issues?q=is%3Aissue), [Cleanlab Code Examples](https://github.com/cleanlab/examples) or our [Slack Community](https://join.slack.com/t/cleanlab-community/shared_invite/zt-17lszn4hv-gg2FhZPXYfljq_l01uo92g).\n",
    "\n",
    "If your question is not addressed anywhere, please open a [new Github issue](https://github.com/cleanlab/cleanlab/issues/new/choose). Our developers can also provide personalized assistance in [Slack](https://join.slack.com/t/cleanlab-community/shared_invite/zt-17lszn4hv-gg2FhZPXYfljq_l01uo92g)."
   ]
  }
 ],
 "metadata": {
  "kernelspec": {
   "display_name": "Python 3 (ipykernel)",
   "language": "python",
   "name": "python3"
  },
  "language_info": {
   "codemirror_mode": {
    "name": "ipython",
    "version": 3
   },
   "file_extension": ".py",
   "mimetype": "text/x-python",
   "name": "python",
   "nbconvert_exporter": "python",
   "pygments_lexer": "ipython3",
   "version": "3.8.13"
  }
 },
 "nbformat": 4,
 "nbformat_minor": 5
}
