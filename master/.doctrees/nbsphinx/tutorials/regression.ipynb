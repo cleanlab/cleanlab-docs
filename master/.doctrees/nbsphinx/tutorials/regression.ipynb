{
 "cells": [
  {
   "cell_type": "markdown",
   "id": "ea0a577e",
   "metadata": {},
   "source": [
    "# Find Noisy Labels in Regression Datasets"
   ]
  },
  {
   "cell_type": "markdown",
   "id": "e15b9f2f",
   "metadata": {},
   "source": [
    "This 5-minute quickstart tutorial uses cleanlab to find potentially incorrect numeric values in a dataset column by means of a regression model. Unlike classification models, regression predicts continuous quantities such as price, income, age,... To find corrupted values in a column, we treat it as the target value, i.e. label, to be predicted by the regression model and then use cleanlab to decide when the model predictions are trustworthy while deviating from the observed label value.  In this tutorial, we consider a Grades dataset, which records three exam grades and some optional notes for over 900 students, each being assigned a final score. Combined with any regression model of your choosing, cleanlab automatically identifies examples in this dataset that have incorrect final scores.\n",
    "\n",
    "**Overview of what we’ll do in this tutorial:**\n",
    "\n",
    "- Fit a simple Gradient Boosting model (any other model could be used) on the exam-score and notes (covariates) in order to compute out-of-sample predictions of the final grade (the response variable in our regression).\n",
    "- Use cleanlab's `CleanLearning.find_label_issues()` method to identify potentially incorrect final grade values based on outputs from this regression model.\n",
    "- Train a more robust version of the same model after dropping the identified label errors using CleanLearning."
   ]
  },
  {
   "cell_type": "markdown",
   "id": "612a355a",
   "metadata": {},
   "source": [
    "<div class=\"alert alert-info\">\n",
    "Quickstart\n",
    "<br/>\n",
    "    \n",
    "Already have an sklearn-compatible regression `model`, features/covariates `X`, and a label/target variable `y`? Run the code below to train your `model` and identify potentially incorrect `y` values in your dataset.\n",
    "\n",
    "\n",
    "<div  class=markdown markdown=\"1\" style=\"background:white;margin:16px\">  \n",
    "    \n",
    "```python\n",
    "\n",
    "from cleanlab.regression.learn import CleanLearning\n",
    "\n",
    "cl = CleanLearning(model)\n",
    "cl.fit(X, y)\n",
    "label_issues = cl.get_label_issues()\n",
    "preds = cl.predict(X_test)  # predictions from a version of your model trained on auto-cleaned data\n",
    "```\n",
    "    \n",
    "</div>\n",
    "    \n",
    "Is your model/data not compatible with `CleanLearning`? You can instead run cross-validation on your model to get out-of-sample `predictions`. Then run the code below to get label quality scores for each example that infer the degree of corruption in each `y` value.\n",
    "\n",
    "<div  class=markdown markdown=\"1\" style=\"background:white;margin:16px\">  \n",
    "    \n",
    "```python\n",
    "\n",
    "from cleanlab.regression.rank import get_label_quality_scores\n",
    " \n",
    "label_quality_scores = get_label_quality_scores(y, predictions)\n",
    "   \n",
    "```\n",
    "    \n",
    "</div>\n",
    "</div>"
   ]
  },
  {
   "cell_type": "markdown",
   "id": "f9a290d6",
   "metadata": {},
   "source": [
    "## 1. Install required dependencies"
   ]
  },
  {
   "cell_type": "markdown",
   "id": "8430ca39",
   "metadata": {},
   "source": [
    "You can use `pip` to install all packages required for this tutorial as follows:\n",
    "\n",
    "```ipython3\n",
    "!pip install scikit-learn matplotlib>=3.6.0\n",
    "!pip install cleanlab\n",
    "# Make sure to install the version corresponding to this tutorial\n",
    "# E.g. if viewing master branch documentation:\n",
    "#     !pip install git+https://github.com/cleanlab/cleanlab.git\n",
    "```"
   ]
  },
  {
   "cell_type": "code",
   "execution_count": 1,
   "id": "2e1af7d8",
   "metadata": {
    "execution": {
     "iopub.execute_input": "2023-08-14T16:41:26.900240Z",
     "iopub.status.busy": "2023-08-14T16:41:26.899956Z",
     "iopub.status.idle": "2023-08-14T16:41:28.260647Z",
     "shell.execute_reply": "2023-08-14T16:41:28.259848Z"
    },
    "nbsphinx": "hidden"
   },
   "outputs": [],
   "source": [
    "# Package installation (hidden on docs website).\n",
    "# Package versions we used: scikit-learn\n",
    "\n",
    "dependencies = [\"cleanlab\", \"matplotlib>=3.6.0\"]\n",
    "\n",
    "if \"google.colab\" in str(get_ipython()):  # Check if it's running in Google Colab\n",
    "    %pip install git+https://github.com/cleanlab/cleanlab.git@396bd68e661dcfb31da64c7b4e43e725a1cd6fab\n",
    "    cmd = \" \".join([dep for dep in dependencies if dep != \"cleanlab\"])\n",
    "    %pip install $cmd\n",
    "else:\n",
    "    dependencies_test = [dependency.split('>')[0] if '>' in dependency \n",
    "                         else dependency.split('<')[0] if '<' in dependency \n",
    "                         else dependency.split('=')[0] for dependency in dependencies]\n",
    "    missing_dependencies = []\n",
    "    for dependency in dependencies_test:\n",
    "        try:\n",
    "            __import__(dependency)\n",
    "        except ImportError:\n",
    "            missing_dependencies.append(dependency)\n",
    "\n",
    "    if len(missing_dependencies) > 0:\n",
    "        print(\"Missing required dependencies:\")\n",
    "        print(*missing_dependencies, sep=\", \")\n",
    "        print(\"\\nPlease install them before running the rest of this notebook.\")"
   ]
  },
  {
   "cell_type": "code",
   "execution_count": 2,
   "id": "4fb10b8f",
   "metadata": {
    "execution": {
     "iopub.execute_input": "2023-08-14T16:41:28.264674Z",
     "iopub.status.busy": "2023-08-14T16:41:28.264076Z",
     "iopub.status.idle": "2023-08-14T16:41:28.292674Z",
     "shell.execute_reply": "2023-08-14T16:41:28.291926Z"
    }
   },
   "outputs": [],
   "source": [
    "import pandas as pd\n",
    "from sklearn.ensemble import HistGradientBoostingRegressor\n",
    "from sklearn.model_selection import cross_val_predict\n",
    "from sklearn.metrics import r2_score\n",
    "\n",
    "from cleanlab.regression.learn import CleanLearning"
   ]
  },
  {
   "cell_type": "code",
   "execution_count": 3,
   "id": "284dc264",
   "metadata": {
    "execution": {
     "iopub.execute_input": "2023-08-14T16:41:28.296447Z",
     "iopub.status.busy": "2023-08-14T16:41:28.296029Z",
     "iopub.status.idle": "2023-08-14T16:41:28.299897Z",
     "shell.execute_reply": "2023-08-14T16:41:28.299173Z"
    },
    "nbsphinx": "hidden"
   },
   "outputs": [],
   "source": [
    "# This cell is hidden from docs.cleanlab.ai \n",
    "\n",
    "import random \n",
    "import numpy as np \n",
    "\n",
    "SEED = 111 # for reproducibility \n",
    "\n",
    "np.random.seed(SEED)\n",
    "random.seed(SEED)"
   ]
  },
  {
   "cell_type": "markdown",
   "id": "2035042e",
   "metadata": {},
   "source": [
    "## 2. Load and process the data"
   ]
  },
  {
   "cell_type": "code",
   "execution_count": 4,
   "id": "0f7450db",
   "metadata": {
    "execution": {
     "iopub.execute_input": "2023-08-14T16:41:28.303141Z",
     "iopub.status.busy": "2023-08-14T16:41:28.302712Z",
     "iopub.status.idle": "2023-08-14T16:41:28.394485Z",
     "shell.execute_reply": "2023-08-14T16:41:28.393600Z"
    }
   },
   "outputs": [
    {
     "data": {
      "text/html": [
       "<div>\n",
       "<style scoped>\n",
       "    .dataframe tbody tr th:only-of-type {\n",
       "        vertical-align: middle;\n",
       "    }\n",
       "\n",
       "    .dataframe tbody tr th {\n",
       "        vertical-align: top;\n",
       "    }\n",
       "\n",
       "    .dataframe thead th {\n",
       "        text-align: right;\n",
       "    }\n",
       "</style>\n",
       "<table border=\"1\" class=\"dataframe\">\n",
       "  <thead>\n",
       "    <tr style=\"text-align: right;\">\n",
       "      <th></th>\n",
       "      <th>exam_1</th>\n",
       "      <th>exam_2</th>\n",
       "      <th>exam_3</th>\n",
       "      <th>notes</th>\n",
       "      <th>final_score</th>\n",
       "      <th>true_final_score</th>\n",
       "    </tr>\n",
       "  </thead>\n",
       "  <tbody>\n",
       "    <tr>\n",
       "      <th>0</th>\n",
       "      <td>72</td>\n",
       "      <td>81</td>\n",
       "      <td>80</td>\n",
       "      <td>NaN</td>\n",
       "      <td>73.3</td>\n",
       "      <td>73.3</td>\n",
       "    </tr>\n",
       "    <tr>\n",
       "      <th>1</th>\n",
       "      <td>89</td>\n",
       "      <td>62</td>\n",
       "      <td>93</td>\n",
       "      <td>NaN</td>\n",
       "      <td>83.8</td>\n",
       "      <td>83.8</td>\n",
       "    </tr>\n",
       "    <tr>\n",
       "      <th>2</th>\n",
       "      <td>97</td>\n",
       "      <td>0</td>\n",
       "      <td>94</td>\n",
       "      <td>NaN</td>\n",
       "      <td>73.5</td>\n",
       "      <td>73.5</td>\n",
       "    </tr>\n",
       "    <tr>\n",
       "      <th>3</th>\n",
       "      <td>80</td>\n",
       "      <td>76</td>\n",
       "      <td>96</td>\n",
       "      <td>missed class frequently -10</td>\n",
       "      <td>78.6</td>\n",
       "      <td>78.6</td>\n",
       "    </tr>\n",
       "    <tr>\n",
       "      <th>4</th>\n",
       "      <td>67</td>\n",
       "      <td>87</td>\n",
       "      <td>95</td>\n",
       "      <td>missed homework frequently -10</td>\n",
       "      <td>74.1</td>\n",
       "      <td>74.1</td>\n",
       "    </tr>\n",
       "  </tbody>\n",
       "</table>\n",
       "</div>"
      ],
      "text/plain": [
       "   exam_1  exam_2  exam_3                           notes  final_score  \\\n",
       "0      72      81      80                             NaN         73.3   \n",
       "1      89      62      93                             NaN         83.8   \n",
       "2      97       0      94                             NaN         73.5   \n",
       "3      80      76      96     missed class frequently -10         78.6   \n",
       "4      67      87      95  missed homework frequently -10         74.1   \n",
       "\n",
       "   true_final_score  \n",
       "0              73.3  \n",
       "1              83.8  \n",
       "2              73.5  \n",
       "3              78.6  \n",
       "4              74.1  "
      ]
     },
     "execution_count": 4,
     "metadata": {},
     "output_type": "execute_result"
    }
   ],
   "source": [
    "train_data = pd.read_csv(\"https://s.cleanlab.ai/student_grades_r/train.csv\")\n",
    "test_data = pd.read_csv(\"https://s.cleanlab.ai/student_grades_r/test.csv\")\n",
    "train_data.head()"
   ]
  },
  {
   "cell_type": "markdown",
   "id": "aa0165ef",
   "metadata": {},
   "source": [
    "In the DataFrame above, `final_score` represents the noisy scores and `true_final_score` represents the ground truth. Note that ground truth is usually not available in real-world datasets, and is added in this dataset for comparison and demonstration purposes."
   ]
  },
  {
   "cell_type": "markdown",
   "id": "82285102",
   "metadata": {},
   "source": [
    "We show a 3D scatter plot of the exam grades, with the color hue corresponding to the final score for each student. Incorrect datapoints are marked with an **X**."
   ]
  },
  {
   "cell_type": "markdown",
   "id": "c8173840",
   "metadata": {},
   "source": [
    "<details><summary>See the code to visualize the data. **(click to expand)**</summary>\n",
    "    \n",
    "```ipython3\n",
    "# Note: This pulldown content is for docs.cleanlab.ai, if running on local Jupyter or Colab, please ignore it.\n",
    "    \n",
    "import numpy as np\n",
    "import matplotlib.pyplot as plt\n",
    "from mpl_toolkits.mplot3d import Axes3D\n",
    "\n",
    "def plot_data(train_data, errors_idx):\n",
    "    fig = plt.figure()\n",
    "    ax = fig.add_subplot(111, projection='3d')\n",
    "\n",
    "    x, y, z = train_data[\"exam_1\"], train_data[\"exam_2\"], train_data[\"exam_3\"]\n",
    "    labels = train_data[\"final_score\"]\n",
    "\n",
    "    img = ax.scatter(x, y, z, c=labels, cmap=\"jet\")\n",
    "    fig.colorbar(img)\n",
    "\n",
    "    ax.plot(\n",
    "        x.iloc[errors_idx],\n",
    "        y.iloc[errors_idx],\n",
    "        z.iloc[errors_idx],\n",
    "        \"x\",\n",
    "        markeredgecolor=\"black\",\n",
    "        markersize=10,\n",
    "        markeredgewidth=2.5,\n",
    "        alpha=0.8,\n",
    "        label=\"Label Errors\"\n",
    "    )\n",
    "    ax.legend()\n",
    "```\n",
    "    \n",
    "</details>"
   ]
  },
  {
   "cell_type": "code",
   "execution_count": 5,
   "id": "55513fed",
   "metadata": {
    "execution": {
     "iopub.execute_input": "2023-08-14T16:41:28.398606Z",
     "iopub.status.busy": "2023-08-14T16:41:28.398121Z",
     "iopub.status.idle": "2023-08-14T16:41:28.784028Z",
     "shell.execute_reply": "2023-08-14T16:41:28.783225Z"
    },
    "nbsphinx": "hidden"
   },
   "outputs": [],
   "source": [
    "import numpy as np\n",
    "import matplotlib.pyplot as plt\n",
    "from mpl_toolkits.mplot3d import Axes3D\n",
    "\n",
    "def plot_data(train_data, errors_idx):\n",
    "    fig = plt.figure()\n",
    "    ax = fig.add_subplot(111, projection='3d')\n",
    "\n",
    "    x, y, z = train_data[\"exam_1\"], train_data[\"exam_2\"], train_data[\"exam_3\"]\n",
    "    labels = train_data[\"final_score\"]\n",
    "\n",
    "    img = ax.scatter(x, y, z, c=labels, cmap=\"jet\")\n",
    "    fig.colorbar(img)\n",
    "\n",
    "    ax.plot(\n",
    "        x.iloc[errors_idx],\n",
    "        y.iloc[errors_idx],\n",
    "        z.iloc[errors_idx],\n",
    "        \"x\",\n",
    "        markeredgecolor=\"black\",\n",
    "        markersize=10,\n",
    "        markeredgewidth=2.5,\n",
    "        alpha=0.8,\n",
    "        label=\"Label Errors\"\n",
    "    )\n",
    "    ax.legend()"
   ]
  },
  {
   "cell_type": "code",
   "execution_count": 6,
   "id": "df5a0f59",
   "metadata": {
    "execution": {
     "iopub.execute_input": "2023-08-14T16:41:28.788461Z",
     "iopub.status.busy": "2023-08-14T16:41:28.788011Z",
     "iopub.status.idle": "2023-08-14T16:41:29.076080Z",
     "shell.execute_reply": "2023-08-14T16:41:29.075399Z"
    }
   },
   "outputs": [
    {
     "data": {
      "image/png": "[encoded data removed]",
      "text/plain": [
       "<Figure size 640x480 with 2 Axes>"
      ]
     },
     "metadata": {},
     "output_type": "display_data"
    }
   ],
   "source": [
    "errors_mask = train_data[\"final_score\"] != train_data[\"true_final_score\"]\n",
    "errors_idx = np.where(errors_mask == 1)\n",
    "\n",
    "plot_data(train_data, errors_idx)"
   ]
  },
  {
   "cell_type": "markdown",
   "id": "add939ae",
   "metadata": {},
   "source": [
    "Next we preprocess the data by applying one-hot encoding to features with categorical data (this is optional if your regression model can work directly with categorical features)."
   ]
  },
  {
   "cell_type": "code",
   "execution_count": 7,
   "id": "7af78a8a",
   "metadata": {
    "execution": {
     "iopub.execute_input": "2023-08-14T16:41:29.080183Z",
     "iopub.status.busy": "2023-08-14T16:41:29.079807Z",
     "iopub.status.idle": "2023-08-14T16:41:29.087407Z",
     "shell.execute_reply": "2023-08-14T16:41:29.086656Z"
    }
   },
   "outputs": [],
   "source": [
    "feature_columns = [\"exam_1\", \"exam_2\", \"exam_3\", \"notes\"]\n",
    "predicted_column = \"final_score\"\n",
    "\n",
    "X_train_raw, y_train = train_data[feature_columns], train_data[predicted_column]\n",
    "X_test_raw, y_test = test_data[feature_columns], test_data[predicted_column]"
   ]
  },
  {
   "cell_type": "code",
   "execution_count": 8,
   "id": "9556c624",
   "metadata": {
    "execution": {
     "iopub.execute_input": "2023-08-14T16:41:29.090572Z",
     "iopub.status.busy": "2023-08-14T16:41:29.090320Z",
     "iopub.status.idle": "2023-08-14T16:41:29.098472Z",
     "shell.execute_reply": "2023-08-14T16:41:29.097846Z"
    }
   },
   "outputs": [],
   "source": [
    "categorical_features = [\"notes\"]\n",
    "X_train = pd.get_dummies(X_train_raw, columns=categorical_features)\n",
    "X_test = pd.get_dummies(X_test_raw, columns=categorical_features)"
   ]
  },
  {
   "cell_type": "markdown",
   "id": "1ce924cf",
   "metadata": {},
   "source": [
    "<div class=\"alert alert-info\">\n",
    "Bringing Your Own Data (BYOD)?\n",
    "\n",
    "Assign your data's features to variable `X` and the target values to variable `y` instead, then continue with the rest of the tutorial.\n",
    "\n",
    "</div>"
   ]
  },
  {
   "cell_type": "markdown",
   "id": "4b14309d",
   "metadata": {},
   "source": [
    "## 3. Define a regression model and use cleanlab to find potential label errors"
   ]
  },
  {
   "cell_type": "markdown",
   "id": "81ee2349",
   "metadata": {},
   "source": [
    "`CleanLearning` provides a wrapper class for any scikit-learn compatible regression model, which can be used to find potential label issues (i.e. noisy `y`-values) and train a more robust version of the same model if the original data contains noisy labels.\n",
    "\n",
    "Here we define a `CleanLearning` object with a histogram-based gradient boosting model (sklearn version of XGBoost) and use `find_label_issues` to identify potential errors in our dataset's numeric label column. Any other sklearn-compatible regression model could be used, such as LinearRegression or RandomForestRegressor (or you can easily wrap arbitrary models to be compatible with the sklearn API)."
   ]
  },
  {
   "cell_type": "code",
   "execution_count": 9,
   "id": "3c2f1ccc",
   "metadata": {
    "execution": {
     "iopub.execute_input": "2023-08-14T16:41:29.101369Z",
     "iopub.status.busy": "2023-08-14T16:41:29.101129Z",
     "iopub.status.idle": "2023-08-14T16:41:29.104208Z",
     "shell.execute_reply": "2023-08-14T16:41:29.103502Z"
    }
   },
   "outputs": [],
   "source": [
    "model = HistGradientBoostingRegressor()\n",
    "cl = CleanLearning(model)"
   ]
  },
  {
   "cell_type": "code",
   "execution_count": 10,
   "id": "7e1b7860",
   "metadata": {
    "execution": {
     "iopub.execute_input": "2023-08-14T16:41:29.107094Z",
     "iopub.status.busy": "2023-08-14T16:41:29.106862Z",
     "iopub.status.idle": "2023-08-14T16:41:44.013721Z",
     "shell.execute_reply": "2023-08-14T16:41:44.012387Z"
    }
   },
   "outputs": [],
   "source": [
    "label_issues = cl.find_label_issues(X_train, y_train)"
   ]
  },
  {
   "cell_type": "markdown",
   "id": "43bd6c7f",
   "metadata": {},
   "source": [
    "`CleanLearning` fits multiple copies of our regression model via cross-validation and bootstrapping in order to compute predictions and uncertainty estimates for the dataset, which are used to identify label issues (i.e. likely corrupted `y`-values).\n",
    "\n",
    "This method returns a Dataframe containing a label quality score (between 0 and 1) for each example in your dataset. Lower scores indicate examples more likely to be mislabeled with an erroneous `y` value. The Dataframe also contains a boolean column specifying whether or not each example is identified to have a label issue (indicating its `y`-value appears corrupted). "
   ]
  },
  {
   "cell_type": "code",
   "execution_count": 11,
   "id": "f407bd69",
   "metadata": {
    "execution": {
     "iopub.execute_input": "2023-08-14T16:41:44.019384Z",
     "iopub.status.busy": "2023-08-14T16:41:44.017911Z",
     "iopub.status.idle": "2023-08-14T16:41:44.029853Z",
     "shell.execute_reply": "2023-08-14T16:41:44.028803Z"
    }
   },
   "outputs": [
    {
     "data": {
      "text/html": [
       "<div>\n",
       "<style scoped>\n",
       "    .dataframe tbody tr th:only-of-type {\n",
       "        vertical-align: middle;\n",
       "    }\n",
       "\n",
       "    .dataframe tbody tr th {\n",
       "        vertical-align: top;\n",
       "    }\n",
       "\n",
       "    .dataframe thead th {\n",
       "        text-align: right;\n",
       "    }\n",
       "</style>\n",
       "<table border=\"1\" class=\"dataframe\">\n",
       "  <thead>\n",
       "    <tr style=\"text-align: right;\">\n",
       "      <th></th>\n",
       "      <th>is_label_issue</th>\n",
       "      <th>label_quality</th>\n",
       "      <th>given_label</th>\n",
       "      <th>predicted_label</th>\n",
       "    </tr>\n",
       "  </thead>\n",
       "  <tbody>\n",
       "    <tr>\n",
       "      <th>0</th>\n",
       "      <td>False</td>\n",
       "      <td>0.629763</td>\n",
       "      <td>73.3</td>\n",
       "      <td>76.521450</td>\n",
       "    </tr>\n",
       "    <tr>\n",
       "      <th>1</th>\n",
       "      <td>False</td>\n",
       "      <td>0.954607</td>\n",
       "      <td>83.8</td>\n",
       "      <td>83.547234</td>\n",
       "    </tr>\n",
       "    <tr>\n",
       "      <th>2</th>\n",
       "      <td>False</td>\n",
       "      <td>0.338296</td>\n",
       "      <td>73.5</td>\n",
       "      <td>62.754531</td>\n",
       "    </tr>\n",
       "    <tr>\n",
       "      <th>3</th>\n",
       "      <td>False</td>\n",
       "      <td>0.619090</td>\n",
       "      <td>78.6</td>\n",
       "      <td>75.312295</td>\n",
       "    </tr>\n",
       "    <tr>\n",
       "      <th>4</th>\n",
       "      <td>False</td>\n",
       "      <td>0.806626</td>\n",
       "      <td>74.1</td>\n",
       "      <td>75.784048</td>\n",
       "    </tr>\n",
       "  </tbody>\n",
       "</table>\n",
       "</div>"
      ],
      "text/plain": [
       "   is_label_issue  label_quality  given_label  predicted_label\n",
       "0           False       0.629763         73.3        76.521450\n",
       "1           False       0.954607         83.8        83.547234\n",
       "2           False       0.338296         73.5        62.754531\n",
       "3           False       0.619090         78.6        75.312295\n",
       "4           False       0.806626         74.1        75.784048"
      ]
     },
     "execution_count": 11,
     "metadata": {},
     "output_type": "execute_result"
    }
   ],
   "source": [
    "label_issues.head()"
   ]
  },
  {
   "cell_type": "markdown",
   "id": "4ab5acf3",
   "metadata": {},
   "source": [
    "We can get the subset of examples flagged with label issues, and also sort by label quality score to find the indices of the 10 most likely mislabeled examples in our dataset."
   ]
  },
  {
   "cell_type": "code",
   "execution_count": 12,
   "id": "f7385336",
   "metadata": {
    "execution": {
     "iopub.execute_input": "2023-08-14T16:41:44.033999Z",
     "iopub.status.busy": "2023-08-14T16:41:44.032987Z",
     "iopub.status.idle": "2023-08-14T16:41:44.038558Z",
     "shell.execute_reply": "2023-08-14T16:41:44.037893Z"
    }
   },
   "outputs": [],
   "source": [
    "identified_issues = label_issues[label_issues[\"is_label_issue\"] == True]\n",
    "lowest_quality_labels = label_issues[\"label_quality\"].argsort()[:10].to_numpy()"
   ]
  },
  {
   "cell_type": "code",
   "execution_count": 13,
   "id": "59fc3091",
   "metadata": {
    "execution": {
     "iopub.execute_input": "2023-08-14T16:41:44.041619Z",
     "iopub.status.busy": "2023-08-14T16:41:44.041209Z",
     "iopub.status.idle": "2023-08-14T16:41:44.046666Z",
     "shell.execute_reply": "2023-08-14T16:41:44.044690Z"
    }
   },
   "outputs": [
    {
     "name": "stdout",
     "output_type": "stream",
     "text": [
      "cleanlab found 113 potential label errors in the dataset.\n",
      "Here are indices of the top 10 most likely errors: \n",
      " [659 367  56 560 318 305 289 688 657 117]\n"
     ]
    }
   ],
   "source": [
    "print(\n",
    "    f\"cleanlab found {len(identified_issues)} potential label errors in the dataset.\\n\"\n",
    "    f\"Here are indices of the top 10 most likely errors: \\n {lowest_quality_labels}\"\n",
    ")"
   ]
  },
  {
   "cell_type": "markdown",
   "id": "aa2c1fec",
   "metadata": {},
   "source": [
    "Let’s review some of the most likely label errors. To help us inspect these datapoints, we define a method to print any example from the dataset, together with its given (original) label and the suggested alternative label from cleanlab."
   ]
  },
  {
   "cell_type": "code",
   "execution_count": 14,
   "id": "00949977",
   "metadata": {
    "execution": {
     "iopub.execute_input": "2023-08-14T16:41:44.049816Z",
     "iopub.status.busy": "2023-08-14T16:41:44.049261Z",
     "iopub.status.idle": "2023-08-14T16:41:44.053012Z",
     "shell.execute_reply": "2023-08-14T16:41:44.052305Z"
    }
   },
   "outputs": [],
   "source": [
    "def view_datapoint(index):\n",
    "    given_labels = label_issues[\"given_label\"]\n",
    "    predicted_labels = label_issues[\"predicted_label\"].round(1)\n",
    "    return pd.concat(\n",
    "        [X_train_raw, given_labels, predicted_labels], axis=1\n",
    "    ).iloc[index]"
   ]
  },
  {
   "cell_type": "code",
   "execution_count": 15,
   "id": "b6c1ae3a",
   "metadata": {
    "execution": {
     "iopub.execute_input": "2023-08-14T16:41:44.055960Z",
     "iopub.status.busy": "2023-08-14T16:41:44.055592Z",
     "iopub.status.idle": "2023-08-14T16:41:44.066254Z",
     "shell.execute_reply": "2023-08-14T16:41:44.065532Z"
    }
   },
   "outputs": [
    {
     "data": {
      "text/html": [
       "<div>\n",
       "<style scoped>\n",
       "    .dataframe tbody tr th:only-of-type {\n",
       "        vertical-align: middle;\n",
       "    }\n",
       "\n",
       "    .dataframe tbody tr th {\n",
       "        vertical-align: top;\n",
       "    }\n",
       "\n",
       "    .dataframe thead th {\n",
       "        text-align: right;\n",
       "    }\n",
       "</style>\n",
       "<table border=\"1\" class=\"dataframe\">\n",
       "  <thead>\n",
       "    <tr style=\"text-align: right;\">\n",
       "      <th></th>\n",
       "      <th>exam_1</th>\n",
       "      <th>exam_2</th>\n",
       "      <th>exam_3</th>\n",
       "      <th>notes</th>\n",
       "      <th>given_label</th>\n",
       "      <th>predicted_label</th>\n",
       "    </tr>\n",
       "  </thead>\n",
       "  <tbody>\n",
       "    <tr>\n",
       "      <th>659</th>\n",
       "      <td>67</td>\n",
       "      <td>93</td>\n",
       "      <td>93</td>\n",
       "      <td>NaN</td>\n",
       "      <td>17.4</td>\n",
       "      <td>85.2</td>\n",
       "    </tr>\n",
       "    <tr>\n",
       "      <th>367</th>\n",
       "      <td>78</td>\n",
       "      <td>0</td>\n",
       "      <td>86</td>\n",
       "      <td>NaN</td>\n",
       "      <td>0.0</td>\n",
       "      <td>56.5</td>\n",
       "    </tr>\n",
       "    <tr>\n",
       "      <th>56</th>\n",
       "      <td>75</td>\n",
       "      <td>83</td>\n",
       "      <td>69</td>\n",
       "      <td>NaN</td>\n",
       "      <td>8.9</td>\n",
       "      <td>70.8</td>\n",
       "    </tr>\n",
       "    <tr>\n",
       "      <th>560</th>\n",
       "      <td>95</td>\n",
       "      <td>0</td>\n",
       "      <td>72</td>\n",
       "      <td>NaN</td>\n",
       "      <td>0.0</td>\n",
       "      <td>55.4</td>\n",
       "    </tr>\n",
       "    <tr>\n",
       "      <th>318</th>\n",
       "      <td>41</td>\n",
       "      <td>88</td>\n",
       "      <td>98</td>\n",
       "      <td>missed class frequently -10</td>\n",
       "      <td>0.0</td>\n",
       "      <td>69.6</td>\n",
       "    </tr>\n",
       "  </tbody>\n",
       "</table>\n",
       "</div>"
      ],
      "text/plain": [
       "     exam_1  exam_2  exam_3                        notes  given_label  \\\n",
       "659      67      93      93                          NaN         17.4   \n",
       "367      78       0      86                          NaN          0.0   \n",
       "56       75      83      69                          NaN          8.9   \n",
       "560      95       0      72                          NaN          0.0   \n",
       "318      41      88      98  missed class frequently -10          0.0   \n",
       "\n",
       "     predicted_label  \n",
       "659             85.2  \n",
       "367             56.5  \n",
       "56              70.8  \n",
       "560             55.4  \n",
       "318             69.6  "
      ]
     },
     "execution_count": 15,
     "metadata": {},
     "output_type": "execute_result"
    }
   ],
   "source": [
    "view_datapoint(lowest_quality_labels[:5])"
   ]
  },
  {
   "cell_type": "markdown",
   "id": "f2be7a93",
   "metadata": {},
   "source": [
    "These are very clear errors that cleanlab has identified in this data! Note that the `given_label` does not correctly reflect the final grade that these student should be getting. \n",
    "\n",
    "cleanlab has shortlisted the most likely label errors to speed up your data cleaning process. With this list, you can decide whether to fix these label issues or remove erroneous examples from the dataset."
   ]
  },
  {
   "cell_type": "markdown",
   "id": "e2761486",
   "metadata": {},
   "source": [
    "## 4. Train a more robust model from noisy labels"
   ]
  },
  {
   "cell_type": "markdown",
   "id": "043bfb52",
   "metadata": {},
   "source": [
    "Fixing the label issues manually may be time-consuming, but cleanlab can filter these noisy examples and train a model on the remaining clean data for you automatically.\n",
    "\n",
    "To establish a baseline, let’s first train and evaluate our original Gradient Boosting model."
   ]
  },
  {
   "cell_type": "code",
   "execution_count": 16,
   "id": "31c704e7",
   "metadata": {
    "execution": {
     "iopub.execute_input": "2023-08-14T16:41:44.070223Z",
     "iopub.status.busy": "2023-08-14T16:41:44.069665Z",
     "iopub.status.idle": "2023-08-14T16:41:44.284777Z",
     "shell.execute_reply": "2023-08-14T16:41:44.284027Z"
    }
   },
   "outputs": [
    {
     "name": "stdout",
     "output_type": "stream",
     "text": [
      "r-squared score of original model: 0.838\n"
     ]
    }
   ],
   "source": [
    "baseline_model = HistGradientBoostingRegressor()  \n",
    "baseline_model.fit(X_train, y_train)\n",
    "\n",
    "preds_og = baseline_model.predict(X_test)\n",
    "r2_og = r2_score(y_test, preds_og)\n",
    "print(f\"r-squared score of original model: {r2_og:.3f}\")"
   ]
  },
  {
   "cell_type": "markdown",
   "id": "0d01f715",
   "metadata": {},
   "source": [
    "Now that we have a baseline, let’s check if using `CleanLearning` improves our test accuracy.\n",
    "\n",
    "`CleanLearning` provides a wrapper that can be applied to any scikit-learn compatible model. The resulting model object can be used in the same manner, but it will now train more robustly if the data has noisy labels.\n",
    "\n",
    "We can use the same `CleanLearning` object defined above, and pass the label issues we already computed into `.fit()` via the `label_issues` argument. This accelerates things; if we did not provide the label issues, then they would be re-estimated via cross-validation. After the issues are estimated, `CleanLearning` simply removes the examples with label issues and retrains your model on the remaining clean data."
   ]
  },
  {
   "cell_type": "code",
   "execution_count": 17,
   "id": "0bcc43db",
   "metadata": {
    "execution": {
     "iopub.execute_input": "2023-08-14T16:41:44.289420Z",
     "iopub.status.busy": "2023-08-14T16:41:44.288270Z",
     "iopub.status.idle": "2023-08-14T16:41:44.503475Z",
     "shell.execute_reply": "2023-08-14T16:41:44.502798Z"
    }
   },
   "outputs": [
    {
     "name": "stdout",
     "output_type": "stream",
     "text": [
      "r-squared score of cleanlab's model: 0.925\n"
     ]
    }
   ],
   "source": [
    "found_label_issues = cl.get_label_issues()\n",
    "cl.fit(X_train, y_train, label_issues=found_label_issues)\n",
    "\n",
    "preds_cl = cl.predict(X_test)\n",
    "r2_cl = r2_score(y_test, preds_cl)\n",
    "print(f\"r-squared score of cleanlab's model: {r2_cl:.3f}\")"
   ]
  },
  {
   "cell_type": "markdown",
   "id": "3aea51da",
   "metadata": {},
   "source": [
    "We can see that the coefficient of determination (r-squared score) of the test set improved as a result of the data cleaning. Note that this will not always be the case, especially when we are evaluating on test data that are themselves noisy. The best practice is to run cleanlab to identify potential label issues and then manually review them, before blindly trusting any evaluation metrics. In particular, the most effort should be made to ensure high-quality test data, which is supposed to reflect the expected performance of our model during deployment."
   ]
  },
  {
   "cell_type": "markdown",
   "id": "167fca90",
   "metadata": {},
   "source": [
    "## 5. Other ways to find noisy labels in regression datasets"
   ]
  },
  {
   "cell_type": "markdown",
   "id": "5b4f8e14",
   "metadata": {},
   "source": [
    "The `CleanLearning` workflow above requires a sklearn-compatible model. If your model or data format is not compatible with the requirements for using `CleanLearning`, you can instead run cross-validation on your model to get out-of-sample predictions, and then use `cleanlab.regression.rank.get_label_quality_scores` to estimate label quality scores for each example in your dataset.\n",
    "\n",
    "This method only requires two inputs:\n",
    "\n",
    "- `labels`: numpy array of given labels in the dataset. \n",
    "- `predictions`: numpy array of predictions generated through your favorite model (these should be out-of-sample predictions to get the best results)."
   ]
  },
  {
   "cell_type": "code",
   "execution_count": 18,
   "id": "7021bd68",
   "metadata": {
    "execution": {
     "iopub.execute_input": "2023-08-14T16:41:44.506979Z",
     "iopub.status.busy": "2023-08-14T16:41:44.506300Z",
     "iopub.status.idle": "2023-08-14T16:41:45.384093Z",
     "shell.execute_reply": "2023-08-14T16:41:45.383356Z"
    }
   },
   "outputs": [],
   "source": [
    "# get predictions using cross-validation\n",
    "model = HistGradientBoostingRegressor()\n",
    "predictions = cross_val_predict(estimator=model, X=X_train, y=y_train)"
   ]
  },
  {
   "cell_type": "code",
   "execution_count": 19,
   "id": "d49c990b",
   "metadata": {
    "execution": {
     "iopub.execute_input": "2023-08-14T16:41:45.388795Z",
     "iopub.status.busy": "2023-08-14T16:41:45.387967Z",
     "iopub.status.idle": "2023-08-14T16:41:45.535295Z",
     "shell.execute_reply": "2023-08-14T16:41:45.534571Z"
    }
   },
   "outputs": [
    {
     "data": {
      "text/plain": [
       "array([3.64404888e-02, 3.06755306e-01, 3.05302732e-04, 2.66635743e-01,\n",
       "       2.53166364e-01])"
      ]
     },
     "execution_count": 19,
     "metadata": {},
     "output_type": "execute_result"
    }
   ],
   "source": [
    "from cleanlab.regression.rank import get_label_quality_scores\n",
    "\n",
    "label_quality_scores = get_label_quality_scores(labels=y_train, predictions=predictions)\n",
    "label_quality_scores[:5]"
   ]
  },
  {
   "cell_type": "markdown",
   "id": "3a0db9b2",
   "metadata": {},
   "source": [
    "As before, these label quality scores are continuous values in the range [0,1] where 1 represents a clean label (given label appears correct) and 0 a represents dirty label (given label appears corrupted). You can sort examples by their label quality scores to inspect the most-likely corrupted datapoints.\n",
    "\n",
    "If possible, we recommend you use `CleanLearning` over `rank.get_label_quality_scores` for the most accurate label error detection (that properly accounts for aleatoric/epistemic uncertainty in the regression model). To understand how these approaches work, refer to our paper: **[Detecting Errors in Numerical Data via any Regression Model](https://arxiv.org/abs/2305.16583)**"
   ]
  },
  {
   "cell_type": "code",
   "execution_count": 20,
   "id": "95531cda",
   "metadata": {
    "execution": {
     "iopub.execute_input": "2023-08-14T16:41:45.538591Z",
     "iopub.status.busy": "2023-08-14T16:41:45.538173Z",
     "iopub.status.idle": "2023-08-14T16:41:45.551363Z",
     "shell.execute_reply": "2023-08-14T16:41:45.550102Z"
    },
    "nbsphinx": "hidden"
   },
   "outputs": [],
   "source": [
    "# Note: This cell is only for docs.cleanlab.ai, if running on local Jupyter or Colab, please ignore it.\n",
    "from sklearn.metrics import roc_auc_score\n",
    "\n",
    "if r2_cl <= r2_og:\n",
    "    raise ValueError(\"CleanLearning did not improve r2 score\")\n",
    "\n",
    "label_quality_score_cl = label_issues[\"label_quality\"]\n",
    "label_quality_scores_residual = get_label_quality_scores(labels=y_train, predictions=predictions, method=\"residual\")\n",
    "\n",
    "auc_outre = roc_auc_score(errors_mask, 1 - label_quality_scores)\n",
    "auc_cl = roc_auc_score(errors_mask, 1 - label_quality_score_cl)\n",
    "auc_residual = roc_auc_score(errors_mask, 1 - label_quality_scores_residual)\n",
    "\n",
    "if auc_outre <= 0.5 or auc_cl <= 0.5:\n",
    "    raise ValueError(\"Label quality scores did not perform well enough\")\n",
    "\n",
    "if auc_outre <= auc_residual:\n",
    "    raise ValueError(\"Outre label quality scores did not outperform alternative scores\")\n",
    "    \n",
    "if auc_cl <= auc_residual:\n",
    "    raise ValueError(\"CL label quality scores did not outperform alternative scores\")"
   ]
  }
 ],
 "metadata": {
  "kernelspec": {
   "display_name": "Python 3 (ipykernel)",
   "language": "python",
   "name": "python3"
  },
  "language_info": {
   "codemirror_mode": {
    "name": "ipython",
    "version": 3
   },
   "file_extension": ".py",
   "mimetype": "text/x-python",
   "name": "python",
   "nbconvert_exporter": "python",
   "pygments_lexer": "ipython3",
   "version": "3.10.12"
  }
 },
 "nbformat": 4,
 "nbformat_minor": 5
}
