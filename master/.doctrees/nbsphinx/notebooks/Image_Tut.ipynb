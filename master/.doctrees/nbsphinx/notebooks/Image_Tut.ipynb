{
 "cells": [
  {
   "cell_type": "markdown",
   "metadata": {},
   "source": [
    "# Image Classification with PyTorch and Cleanlab\n"
   ]
  },
  {
   "cell_type": "markdown",
   "metadata": {},
   "source": [
    "This 5-minute cleanlab quickstart tutorial demonstrates how to find potential label errors in image classification data. Here we use the MNIST dataset containing 70,000 images of handwritten digits from 0 to 9.\n",
    "\n",
    "**Overview of what we'll do in this tutorial:**\n",
    "\n",
    "- Build a simple PyTorch neural net and wrap it with Skorch to make it scikit-learn compatible.\n",
    "\n",
    "- Compute the out-of-sample predicted probabilities, `pred_probs`, via cross-validation.\n",
    "\n",
    "- Generate a list of potential label errors with Cleanlab's `find_label_issues`.\n"
   ]
  },
  {
   "cell_type": "markdown",
   "metadata": {},
   "source": [
    "## 1. Install the required dependencies\n"
   ]
  },
  {
   "cell_type": "markdown",
   "metadata": {},
   "source": [
    "Install the following dependencies with `pip install`:\n",
    "\n",
    "1. cleanlab\n",
    "2. pandas\n",
    "3. matplotlib\n",
    "4. torch\n",
    "5. torchvision\n",
    "6. skorch\n"
   ]
  },
  {
   "cell_type": "code",
   "execution_count": 1,
   "metadata": {
    "execution": {
     "iopub.execute_input": "2022-03-28T17:20:45.372353Z",
     "iopub.status.busy": "2022-03-28T17:20:45.371961Z",
     "iopub.status.idle": "2022-03-28T17:20:46.882259Z",
     "shell.execute_reply": "2022-03-28T17:20:46.881417Z"
    },
    "nbsphinx": "hidden"
   },
   "outputs": [],
   "source": [
    "dependencies = [\"cleanlab\", \"pandas\", \"matplotlib\", \"torch\", \"torchvision\", \"skorch\"]\n",
    "\n",
    "if \"google.colab\" in str(get_ipython()):  # Check if it's running in Google Colab\n",
    "    %pip install git+https://github.com/cleanlab/cleanlab.git@1ed74986a8cbc1c9376d34b8acecb60259290e81\n",
    "    cmd = ' '.join([dep for dep in dependencies if dep != \"cleanlab\"])\n",
    "    %pip install $cmd\n",
    "else:\n",
    "    missing_dependencies = []\n",
    "    for dependency in dependencies:\n",
    "        try:\n",
    "            __import__(dependency)\n",
    "        except ImportError:\n",
    "            missing_dependencies.append(dependency)\n",
    "\n",
    "    if len(missing_dependencies) > 0:\n",
    "        print(\"Missing required dependencies:\")\n",
    "        print(*missing_dependencies, sep=\", \")\n",
    "        print(\"\\nPlease install them before running the rest of this notebook.\")\n"
   ]
  },
  {
   "cell_type": "markdown",
   "metadata": {},
   "source": [
    "## 2. Fetch and scale the MNIST dataset\n"
   ]
  },
  {
   "cell_type": "code",
   "execution_count": 2,
   "metadata": {
    "execution": {
     "iopub.execute_input": "2022-03-28T17:20:46.886337Z",
     "iopub.status.busy": "2022-03-28T17:20:46.886161Z",
     "iopub.status.idle": "2022-03-28T17:21:39.836950Z",
     "shell.execute_reply": "2022-03-28T17:21:39.836142Z"
    }
   },
   "outputs": [],
   "source": [
    "from sklearn.datasets import fetch_openml\n",
    "\n",
    "mnist = fetch_openml(\"mnist_784\")  # Fetch the MNIST dataset\n",
    "\n",
    "X = mnist.data.astype(\"float32\").to_numpy()  # 2D numpy array of image features\n",
    "X /= 255.0  # Scale the features to the [0, 1] range\n",
    "\n",
    "y = mnist.target.astype(\"int64\").to_numpy()  # 1D numpy array of the image labels\n"
   ]
  },
  {
   "cell_type": "markdown",
   "metadata": {},
   "source": [
    "<div class=\"alert alert-info\">\n",
    "Bringing Your Own Data (BYOD)?\n",
    "\n",
    "Assign your data's features to variable `X` and its labels to variable `y` instead.\n",
    "\n",
    "</div>\n"
   ]
  },
  {
   "cell_type": "markdown",
   "metadata": {},
   "source": [
    "## 3. Define a classification model\n"
   ]
  },
  {
   "cell_type": "markdown",
   "metadata": {},
   "source": [
    "Here, we define a simple neural network with PyTorch.\n"
   ]
  },
  {
   "cell_type": "code",
   "execution_count": 3,
   "metadata": {
    "execution": {
     "iopub.execute_input": "2022-03-28T17:21:39.841232Z",
     "iopub.status.busy": "2022-03-28T17:21:39.840822Z",
     "iopub.status.idle": "2022-03-28T17:21:39.850193Z",
     "shell.execute_reply": "2022-03-28T17:21:39.849490Z"
    }
   },
   "outputs": [],
   "source": [
    "from torch import nn\n",
    "\n",
    "model = nn.Sequential(\n",
    "    nn.Linear(28 * 28, 128),\n",
    "    nn.ReLU(),\n",
    "    nn.Dropout(0.5),\n",
    "    nn.Linear(128, 10),\n",
    "    nn.Softmax(dim=-1),\n",
    ")\n"
   ]
  },
  {
   "cell_type": "markdown",
   "metadata": {},
   "source": [
    "## 4. Ensure your classifier is scikit-learn compatible\n"
   ]
  },
  {
   "cell_type": "markdown",
   "metadata": {},
   "source": [
    "As some of Cleanlab's features requires scikit-learn compatibility, we will need to adapt the above PyTorch neural net accordingly. [Skorch](https://skorch.readthedocs.io) is a convenient package that helps with this. You can also easily wrap an arbitrary model to be scikit-learn compatible as demonstrated [here](https://github.com/cleanlab/cleanlab#use-cleanlab-with-any-model-tensorflow-pytorch-sklearn-xgboost-etc).\n"
   ]
  },
  {
   "cell_type": "code",
   "execution_count": 4,
   "metadata": {
    "execution": {
     "iopub.execute_input": "2022-03-28T17:21:39.853660Z",
     "iopub.status.busy": "2022-03-28T17:21:39.853223Z",
     "iopub.status.idle": "2022-03-28T17:21:39.856815Z",
     "shell.execute_reply": "2022-03-28T17:21:39.856112Z"
    }
   },
   "outputs": [],
   "source": [
    "from skorch import NeuralNetClassifier\n",
    "\n",
    "model_skorch = NeuralNetClassifier(model)\n"
   ]
  },
  {
   "cell_type": "markdown",
   "metadata": {},
   "source": [
    "## 5. Compute out-of-sample predicted probabilities\n"
   ]
  },
  {
   "cell_type": "markdown",
   "metadata": {},
   "source": [
    "If we'd like Cleanlab to identify potential label errors in the whole dataset and not just the training set, we can consider using the entire dataset when computing the out-of-sample predicted probabilities, `pred_probs`, via cross-validation.\n"
   ]
  },
  {
   "cell_type": "code",
   "execution_count": 5,
   "metadata": {
    "execution": {
     "iopub.execute_input": "2022-03-28T17:21:39.860187Z",
     "iopub.status.busy": "2022-03-28T17:21:39.859835Z",
     "iopub.status.idle": "2022-03-28T17:22:13.613872Z",
     "shell.execute_reply": "2022-03-28T17:22:13.613226Z"
    }
   },
   "outputs": [
    {
     "name": "stdout",
     "output_type": "stream",
     "text": [
      "  epoch    train_loss    valid_acc    valid_loss     dur\n",
      "-------  ------------  -----------  ------------  ------\n",
      "      1        \u001b[36m2.0012\u001b[0m       \u001b[32m0.7319\u001b[0m        \u001b[35m1.5952\u001b[0m  1.1075\n"
     ]
    },
    {
     "name": "stdout",
     "output_type": "stream",
     "text": [
      "      2        \u001b[36m1.2757\u001b[0m       \u001b[32m0.7944\u001b[0m        \u001b[35m0.9689\u001b[0m  1.0476\n"
     ]
    },
    {
     "name": "stdout",
     "output_type": "stream",
     "text": [
      "      3        \u001b[36m0.8936\u001b[0m       \u001b[32m0.8290\u001b[0m        \u001b[35m0.7274\u001b[0m  1.0440\n"
     ]
    },
    {
     "name": "stdout",
     "output_type": "stream",
     "text": [
      "      4        \u001b[36m0.7338\u001b[0m       \u001b[32m0.8473\u001b[0m        \u001b[35m0.6168\u001b[0m  1.0384\n"
     ]
    },
    {
     "name": "stdout",
     "output_type": "stream",
     "text": [
      "      5        \u001b[36m0.6455\u001b[0m       \u001b[32m0.8583\u001b[0m        \u001b[35m0.5495\u001b[0m  1.0564\n"
     ]
    },
    {
     "name": "stdout",
     "output_type": "stream",
     "text": [
      "      6        \u001b[36m0.5865\u001b[0m       \u001b[32m0.8663\u001b[0m        \u001b[35m0.5060\u001b[0m  1.0434\n"
     ]
    },
    {
     "name": "stdout",
     "output_type": "stream",
     "text": [
      "      7        \u001b[36m0.5436\u001b[0m       \u001b[32m0.8718\u001b[0m        \u001b[35m0.4749\u001b[0m  1.0305\n"
     ]
    },
    {
     "name": "stdout",
     "output_type": "stream",
     "text": [
      "      8        \u001b[36m0.5169\u001b[0m       \u001b[32m0.8762\u001b[0m        \u001b[35m0.4514\u001b[0m  1.0507\n"
     ]
    },
    {
     "name": "stdout",
     "output_type": "stream",
     "text": [
      "      9        \u001b[36m0.4927\u001b[0m       \u001b[32m0.8805\u001b[0m        \u001b[35m0.4318\u001b[0m  1.0473\n"
     ]
    },
    {
     "name": "stdout",
     "output_type": "stream",
     "text": [
      "     10        \u001b[36m0.4748\u001b[0m       \u001b[32m0.8837\u001b[0m        \u001b[35m0.4156\u001b[0m  1.0587\n"
     ]
    },
    {
     "name": "stdout",
     "output_type": "stream",
     "text": [
      "  epoch    train_loss    valid_acc    valid_loss     dur\n",
      "-------  ------------  -----------  ------------  ------\n",
      "      1        \u001b[36m1.9992\u001b[0m       \u001b[32m0.7456\u001b[0m        \u001b[35m1.5781\u001b[0m  1.0478\n"
     ]
    },
    {
     "name": "stdout",
     "output_type": "stream",
     "text": [
      "      2        \u001b[36m1.2692\u001b[0m       \u001b[32m0.8118\u001b[0m        \u001b[35m0.9426\u001b[0m  1.0470\n"
     ]
    },
    {
     "name": "stdout",
     "output_type": "stream",
     "text": [
      "      3        \u001b[36m0.8919\u001b[0m       \u001b[32m0.8414\u001b[0m        \u001b[35m0.7011\u001b[0m  1.0485\n"
     ]
    },
    {
     "name": "stdout",
     "output_type": "stream",
     "text": [
      "      4        \u001b[36m0.7263\u001b[0m       \u001b[32m0.8574\u001b[0m        \u001b[35m0.5877\u001b[0m  1.0322\n"
     ]
    },
    {
     "name": "stdout",
     "output_type": "stream",
     "text": [
      "      5        \u001b[36m0.6437\u001b[0m       \u001b[32m0.8691\u001b[0m        \u001b[35m0.5243\u001b[0m  1.0611\n"
     ]
    },
    {
     "name": "stdout",
     "output_type": "stream",
     "text": [
      "      6        \u001b[36m0.5858\u001b[0m       \u001b[32m0.8780\u001b[0m        \u001b[35m0.4799\u001b[0m  1.0515\n"
     ]
    },
    {
     "name": "stdout",
     "output_type": "stream",
     "text": [
      "      7        \u001b[36m0.5437\u001b[0m       \u001b[32m0.8838\u001b[0m        \u001b[35m0.4485\u001b[0m  1.0570\n"
     ]
    },
    {
     "name": "stdout",
     "output_type": "stream",
     "text": [
      "      8        \u001b[36m0.5142\u001b[0m       \u001b[32m0.8878\u001b[0m        \u001b[35m0.4253\u001b[0m  1.0554\n"
     ]
    },
    {
     "name": "stdout",
     "output_type": "stream",
     "text": [
      "      9        \u001b[36m0.4890\u001b[0m       \u001b[32m0.8924\u001b[0m        \u001b[35m0.4065\u001b[0m  1.0491\n"
     ]
    },
    {
     "name": "stdout",
     "output_type": "stream",
     "text": [
      "     10        \u001b[36m0.4696\u001b[0m       \u001b[32m0.8950\u001b[0m        \u001b[35m0.3916\u001b[0m  1.0420\n"
     ]
    },
    {
     "name": "stdout",
     "output_type": "stream",
     "text": [
      "  epoch    train_loss    valid_acc    valid_loss     dur\n",
      "-------  ------------  -----------  ------------  ------\n",
      "      1        \u001b[36m2.0112\u001b[0m       \u001b[32m0.7396\u001b[0m        \u001b[35m1.5937\u001b[0m  1.0925\n"
     ]
    },
    {
     "name": "stdout",
     "output_type": "stream",
     "text": [
      "      2        \u001b[36m1.3043\u001b[0m       \u001b[32m0.8138\u001b[0m        \u001b[35m0.9545\u001b[0m  1.0111\n"
     ]
    },
    {
     "name": "stdout",
     "output_type": "stream",
     "text": [
      "      3        \u001b[36m0.9193\u001b[0m       \u001b[32m0.8456\u001b[0m        \u001b[35m0.7046\u001b[0m  1.0531\n"
     ]
    },
    {
     "name": "stdout",
     "output_type": "stream",
     "text": [
      "      4        \u001b[36m0.7552\u001b[0m       \u001b[32m0.8614\u001b[0m        \u001b[35m0.5887\u001b[0m  1.0383\n"
     ]
    },
    {
     "name": "stdout",
     "output_type": "stream",
     "text": [
      "      5        \u001b[36m0.6652\u001b[0m       \u001b[32m0.8732\u001b[0m        \u001b[35m0.5218\u001b[0m  1.0577\n"
     ]
    },
    {
     "name": "stdout",
     "output_type": "stream",
     "text": [
      "      6        \u001b[36m0.6120\u001b[0m       \u001b[32m0.8813\u001b[0m        \u001b[35m0.4783\u001b[0m  1.1032\n"
     ]
    },
    {
     "name": "stdout",
     "output_type": "stream",
     "text": [
      "      7        \u001b[36m0.5640\u001b[0m       \u001b[32m0.8856\u001b[0m        \u001b[35m0.4457\u001b[0m  1.0457\n"
     ]
    },
    {
     "name": "stdout",
     "output_type": "stream",
     "text": [
      "      8        \u001b[36m0.5382\u001b[0m       \u001b[32m0.8908\u001b[0m        \u001b[35m0.4215\u001b[0m  1.0593\n"
     ]
    },
    {
     "name": "stdout",
     "output_type": "stream",
     "text": [
      "      9        \u001b[36m0.5127\u001b[0m       \u001b[32m0.8942\u001b[0m        \u001b[35m0.4029\u001b[0m  1.0623\n"
     ]
    },
    {
     "name": "stdout",
     "output_type": "stream",
     "text": [
      "     10        \u001b[36m0.4920\u001b[0m       \u001b[32m0.8966\u001b[0m        \u001b[35m0.3874\u001b[0m  1.1002\n"
     ]
    }
   ],
   "source": [
    "from sklearn.model_selection import cross_val_predict\n",
    "\n",
    "pred_probs = cross_val_predict(model_skorch, X, y, cv=3, method=\"predict_proba\")\n"
   ]
  },
  {
   "cell_type": "markdown",
   "metadata": {},
   "source": [
    "## 6. Run Cleanlab to find potential label errors\n"
   ]
  },
  {
   "cell_type": "markdown",
   "metadata": {},
   "source": [
    "Cleanlab has a `find_label_issues` function to generate a list of potential label errors. Setting `return_indices_ranked_by=\"self_confidence\"` returns the indices of all the most likely label errors, sorted by the most suspicious example first.\n"
   ]
  },
  {
   "cell_type": "code",
   "execution_count": 6,
   "metadata": {
    "execution": {
     "iopub.execute_input": "2022-03-28T17:22:13.617785Z",
     "iopub.status.busy": "2022-03-28T17:22:13.617486Z",
     "iopub.status.idle": "2022-03-28T17:22:15.088273Z",
     "shell.execute_reply": "2022-03-28T17:22:15.087042Z"
    }
   },
   "outputs": [],
   "source": [
    "from cleanlab.filter import find_label_issues\n",
    "\n",
    "ranked_label_issues = find_label_issues(y, pred_probs, return_indices_ranked_by=\"self_confidence\")\n"
   ]
  },
  {
   "cell_type": "markdown",
   "metadata": {},
   "source": [
    "## 7. Review some of the most likely mislabeled examples\n"
   ]
  },
  {
   "cell_type": "code",
   "execution_count": 7,
   "metadata": {
    "execution": {
     "iopub.execute_input": "2022-03-28T17:22:15.093213Z",
     "iopub.status.busy": "2022-03-28T17:22:15.092874Z",
     "iopub.status.idle": "2022-03-28T17:22:15.099415Z",
     "shell.execute_reply": "2022-03-28T17:22:15.098727Z"
    }
   },
   "outputs": [
    {
     "name": "stdout",
     "output_type": "stream",
     "text": [
      "Cleanlab found 1258 potential label errors.\n",
      "Here are the indices of the top 15 most likely ones: \n",
      " [24798 18598  8729 15942 61790 31134 59915 53216 12679 66091  1352 39457\n",
      "  7010 13031 20735]\n"
     ]
    }
   ],
   "source": [
    "print(f\"Cleanlab found {len(ranked_label_issues)} potential label errors.\")\n",
    "print(f\"Here are the indices of the top 15 most likely ones: \\n {ranked_label_issues[:15]}\")\n"
   ]
  },
  {
   "cell_type": "markdown",
   "metadata": {},
   "source": [
    "We'll define a new `plot_examples` function to display any examples in a subplot conveniently.\n"
   ]
  },
  {
   "cell_type": "raw",
   "metadata": {},
   "source": [
    "<!-- This cell is for the collapsible block in the doc site -->\n",
    "\n",
    "<details>\n",
    "    <summary markdown=\"1\">Click here to view its code.</summary>"
   ]
  },
  {
   "cell_type": "code",
   "execution_count": 8,
   "metadata": {
    "execution": {
     "iopub.execute_input": "2022-03-28T17:22:15.102606Z",
     "iopub.status.busy": "2022-03-28T17:22:15.102368Z",
     "iopub.status.idle": "2022-03-28T17:22:18.533049Z",
     "shell.execute_reply": "2022-03-28T17:22:18.532046Z"
    }
   },
   "outputs": [],
   "source": [
    "import matplotlib.pyplot as plt\n",
    "\n",
    "\n",
    "def plot_examples(id_iter, nrows=1, ncols=1):\n",
    "    for count, id in enumerate(id_iter):\n",
    "        plt.subplot(nrows, ncols, count + 1)\n",
    "        plt.imshow(X[id].reshape(28, 28), cmap=\"gray\")\n",
    "        plt.title(f\"id: {id} \\n label: {y[id]}\")\n",
    "        plt.axis(\"off\")\n",
    "\n",
    "    plt.tight_layout(h_pad=2.0)\n"
   ]
  },
  {
   "cell_type": "raw",
   "metadata": {},
   "source": [
    "<!-- This cell is for the collapsible block in the doc site -->\n",
    "\n",
    "</details>"
   ]
  },
  {
   "cell_type": "markdown",
   "metadata": {},
   "source": [
    "Let's start by having an overview of the top 15 most likely label errors. From here, we can see a few label errors and edge cases. Feel free to change the parameters to display more or fewer examples.\n"
   ]
  },
  {
   "cell_type": "code",
   "execution_count": 9,
   "metadata": {
    "execution": {
     "iopub.execute_input": "2022-03-28T17:22:18.537872Z",
     "iopub.status.busy": "2022-03-28T17:22:18.537612Z",
     "iopub.status.idle": "2022-03-28T17:22:19.275159Z",
     "shell.execute_reply": "2022-03-28T17:22:19.274640Z"
    }
   },
   "outputs": [
    {
     "data": {
      "image/png": "[encoded data removed]",
      "text/plain": [
       "<Figure size 432x288 with 15 Axes>"
      ]
     },
     "metadata": {
      "needs_background": "light"
     },
     "output_type": "display_data"
    }
   ],
   "source": [
    "plot_examples(ranked_label_issues[range(15)], 3, 5)\n"
   ]
  },
  {
   "cell_type": "markdown",
   "metadata": {},
   "source": [
    "Let's zoom into specific examples:\n"
   ]
  },
  {
   "cell_type": "markdown",
   "metadata": {},
   "source": [
    "Given label is **4** but looks more like a **7**\n"
   ]
  },
  {
   "cell_type": "code",
   "execution_count": 10,
   "metadata": {
    "execution": {
     "iopub.execute_input": "2022-03-28T17:22:19.279356Z",
     "iopub.status.busy": "2022-03-28T17:22:19.278018Z",
     "iopub.status.idle": "2022-03-28T17:22:19.354279Z",
     "shell.execute_reply": "2022-03-28T17:22:19.353394Z"
    }
   },
   "outputs": [
    {
     "data": {
      "image/png": "[encoded data removed]",
      "text/plain": [
       "<Figure size 432x288 with 1 Axes>"
      ]
     },
     "metadata": {
      "needs_background": "light"
     },
     "output_type": "display_data"
    }
   ],
   "source": [
    "plot_examples([59915])\n"
   ]
  },
  {
   "cell_type": "markdown",
   "metadata": {},
   "source": [
    "Given label is **4** but also looks like **9**\n"
   ]
  },
  {
   "cell_type": "code",
   "execution_count": 11,
   "metadata": {
    "execution": {
     "iopub.execute_input": "2022-03-28T17:22:19.357694Z",
     "iopub.status.busy": "2022-03-28T17:22:19.357333Z",
     "iopub.status.idle": "2022-03-28T17:22:19.435742Z",
     "shell.execute_reply": "2022-03-28T17:22:19.435004Z"
    }
   },
   "outputs": [
    {
     "data": {
      "image/png": "[encoded data removed]",
      "text/plain": [
       "<Figure size 432x288 with 1 Axes>"
      ]
     },
     "metadata": {
      "needs_background": "light"
     },
     "output_type": "display_data"
    }
   ],
   "source": [
    "plot_examples([24798])\n"
   ]
  },
  {
   "cell_type": "markdown",
   "metadata": {},
   "source": [
    "Edge case of odd looking **9**s\n"
   ]
  },
  {
   "cell_type": "code",
   "execution_count": 12,
   "metadata": {
    "execution": {
     "iopub.execute_input": "2022-03-28T17:22:19.439119Z",
     "iopub.status.busy": "2022-03-28T17:22:19.438822Z",
     "iopub.status.idle": "2022-03-28T17:22:19.602199Z",
     "shell.execute_reply": "2022-03-28T17:22:19.601576Z"
    }
   },
   "outputs": [
    {
     "data": {
      "image/png": "[encoded data removed]",
      "text/plain": [
       "<Figure size 432x288 with 3 Axes>"
      ]
     },
     "metadata": {
      "needs_background": "light"
     },
     "output_type": "display_data"
    }
   ],
   "source": [
    "plot_examples([18598, 1352, 61247], 1, 3)\n"
   ]
  },
  {
   "cell_type": "markdown",
   "metadata": {},
   "source": [
    "Cleanlab has shortlisted the most likely label errors to speed up your data cleaning process. With this list, you can decide whether to fix label errors, augment edge cases, or remove obscure examples.\n"
   ]
  },
  {
   "cell_type": "markdown",
   "metadata": {},
   "source": [
    "## What's next?\n"
   ]
  },
  {
   "cell_type": "markdown",
   "metadata": {},
   "source": [
    "Congratulations on completing this tutorial! Check out our following tutorial on using Cleanlab for text classification, where we found _hundreds_ of potential label errors in one of the most well-known text datasets, the IMBDb movie review dataset!\n"
   ]
  }
 ],
 "metadata": {
  "interpreter": {
   "hash": "ced20e3e49bb4fa4ce8ad38f8f2535b7fc4c39b2b89554502b5dbdad1ad67eda"
  },
  "kernelspec": {
   "display_name": "Python 3.10.0 64-bit",
   "language": "python",
   "name": "python3"
  },
  "language_info": {
   "codemirror_mode": {
    "name": "ipython",
    "version": 3
   },
   "file_extension": ".py",
   "mimetype": "text/x-python",
   "name": "python",
   "nbconvert_exporter": "python",
   "pygments_lexer": "ipython3",
   "version": "3.8.12"
  }
 },
 "nbformat": 4,
 "nbformat_minor": 2
}
